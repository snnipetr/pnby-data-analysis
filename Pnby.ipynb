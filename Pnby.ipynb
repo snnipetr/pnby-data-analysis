{
  "cells": [
    {
      "cell_type": "markdown",
      "metadata": {
        "id": "view-in-github",
        "colab_type": "text"
      },
      "source": [
        "<a href=\"https://colab.research.google.com/github/snnipetr/pnby-data-analysis/blob/main/Pnby.ipynb\" target=\"_parent\"><img src=\"https://colab.research.google.com/assets/colab-badge.svg\" alt=\"Open In Colab\"/></a>"
      ]
    },
    {
      "cell_type": "markdown",
      "source": [
        "# Section-1"
      ],
      "metadata": {
        "id": "KwdcGoa3Y822"
      },
      "id": "KwdcGoa3Y822"
    },
    {
      "cell_type": "markdown",
      "source": [
        "## **Importing Libraries**"
      ],
      "metadata": {
        "id": "KQZElpFZdA9y"
      },
      "id": "KQZElpFZdA9y"
    },
    {
      "cell_type": "code",
      "source": [
        "import pandas as pd\n",
        "import matplotlib.pyplot as plt\n",
        "from datetime import datetime as dt\n",
        "import sqlite3\n",
        "from sklearn.preprocessing import MinMaxScaler\n",
        "\n",
        "%matplotlib inline"
      ],
      "metadata": {
        "id": "i5xoc4f4I6hU"
      },
      "id": "i5xoc4f4I6hU",
      "execution_count": 249,
      "outputs": []
    },
    {
      "cell_type": "markdown",
      "source": [
        "## **Loading the Data**"
      ],
      "metadata": {
        "id": "YGM1JdBXZp8E"
      },
      "id": "YGM1JdBXZp8E"
    },
    {
      "cell_type": "code",
      "source": [
        "from google.colab import drive\n",
        "drive.mount('/content/drive')"
      ],
      "metadata": {
        "colab": {
          "base_uri": "https://localhost:8080/"
        },
        "id": "EQWZ8JqpJOUT",
        "outputId": "82e27c52-93a2-4033-fb9f-6c16e1464769"
      },
      "id": "EQWZ8JqpJOUT",
      "execution_count": 250,
      "outputs": [
        {
          "output_type": "stream",
          "name": "stdout",
          "text": [
            "Drive already mounted at /content/drive; to attempt to forcibly remount, call drive.mount(\"/content/drive\", force_remount=True).\n"
          ]
        }
      ]
    },
    {
      "cell_type": "code",
      "source": [
        "interview_txn_data = pd.read_csv('/content/drive/MyDrive/PayNearby Analyst Assessment.rar (Unzipped Files)/interview_txn_data.csv')\n",
        "interview_ticket_data = pd.read_csv('/content/drive/MyDrive/PayNearby Analyst Assessment.rar (Unzipped Files)/interview_ticket_data.csv')"
      ],
      "metadata": {
        "id": "Bo63BFC9LTUG"
      },
      "id": "Bo63BFC9LTUG",
      "execution_count": 251,
      "outputs": []
    },
    {
      "cell_type": "code",
      "source": [
        "dff = interview_txn_data"
      ],
      "metadata": {
        "id": "o6SInsUvxIga"
      },
      "id": "o6SInsUvxIga",
      "execution_count": 252,
      "outputs": []
    },
    {
      "cell_type": "code",
      "source": [
        "display(interview_txn_data.head())\n",
        "interview_txn_data.info()\n",
        "interview_txn_data.describe()"
      ],
      "metadata": {
        "colab": {
          "base_uri": "https://localhost:8080/",
          "height": 750
        },
        "id": "4l3zU9VLDxAm",
        "outputId": "086af183-b89b-4b2c-c6a8-df0f74728060"
      },
      "id": "4l3zU9VLDxAm",
      "execution_count": 253,
      "outputs": [
        {
          "output_type": "display_data",
          "data": {
            "text/plain": [
              "   Unnamed: 0  Amount  PayeeRefID              CreatedDate  \\\n",
              "0           0     2.0       12104  2018-10-14 13:52:31 UTC   \n",
              "1           1     2.0       12104  2018-08-11 16:55:33 UTC   \n",
              "2           2     2.0    24979501  2019-02-21 16:33:03 UTC   \n",
              "3           3     2.0       12104  2018-09-20 18:15:22 UTC   \n",
              "4           4   100.0    15957319  2018-07-22 07:14:24 UTC   \n",
              "\n",
              "   TransactionStatusRefID  AgentRefID  DistributorRefID     date  \n",
              "0                       2           1                 1  2018-10  \n",
              "1                       2           1                 1  2018-08  \n",
              "2                       2           1                 1  2019-02  \n",
              "3                       2           1                 1  2018-09  \n",
              "4                       2           1                 1  2018-07  "
            ],
            "text/html": [
              "\n",
              "  <div id=\"df-1e0a01a5-b24a-443a-866a-7050b6f3f0ea\">\n",
              "    <div class=\"colab-df-container\">\n",
              "      <div>\n",
              "<style scoped>\n",
              "    .dataframe tbody tr th:only-of-type {\n",
              "        vertical-align: middle;\n",
              "    }\n",
              "\n",
              "    .dataframe tbody tr th {\n",
              "        vertical-align: top;\n",
              "    }\n",
              "\n",
              "    .dataframe thead th {\n",
              "        text-align: right;\n",
              "    }\n",
              "</style>\n",
              "<table border=\"1\" class=\"dataframe\">\n",
              "  <thead>\n",
              "    <tr style=\"text-align: right;\">\n",
              "      <th></th>\n",
              "      <th>Unnamed: 0</th>\n",
              "      <th>Amount</th>\n",
              "      <th>PayeeRefID</th>\n",
              "      <th>CreatedDate</th>\n",
              "      <th>TransactionStatusRefID</th>\n",
              "      <th>AgentRefID</th>\n",
              "      <th>DistributorRefID</th>\n",
              "      <th>date</th>\n",
              "    </tr>\n",
              "  </thead>\n",
              "  <tbody>\n",
              "    <tr>\n",
              "      <th>0</th>\n",
              "      <td>0</td>\n",
              "      <td>2.0</td>\n",
              "      <td>12104</td>\n",
              "      <td>2018-10-14 13:52:31 UTC</td>\n",
              "      <td>2</td>\n",
              "      <td>1</td>\n",
              "      <td>1</td>\n",
              "      <td>2018-10</td>\n",
              "    </tr>\n",
              "    <tr>\n",
              "      <th>1</th>\n",
              "      <td>1</td>\n",
              "      <td>2.0</td>\n",
              "      <td>12104</td>\n",
              "      <td>2018-08-11 16:55:33 UTC</td>\n",
              "      <td>2</td>\n",
              "      <td>1</td>\n",
              "      <td>1</td>\n",
              "      <td>2018-08</td>\n",
              "    </tr>\n",
              "    <tr>\n",
              "      <th>2</th>\n",
              "      <td>2</td>\n",
              "      <td>2.0</td>\n",
              "      <td>24979501</td>\n",
              "      <td>2019-02-21 16:33:03 UTC</td>\n",
              "      <td>2</td>\n",
              "      <td>1</td>\n",
              "      <td>1</td>\n",
              "      <td>2019-02</td>\n",
              "    </tr>\n",
              "    <tr>\n",
              "      <th>3</th>\n",
              "      <td>3</td>\n",
              "      <td>2.0</td>\n",
              "      <td>12104</td>\n",
              "      <td>2018-09-20 18:15:22 UTC</td>\n",
              "      <td>2</td>\n",
              "      <td>1</td>\n",
              "      <td>1</td>\n",
              "      <td>2018-09</td>\n",
              "    </tr>\n",
              "    <tr>\n",
              "      <th>4</th>\n",
              "      <td>4</td>\n",
              "      <td>100.0</td>\n",
              "      <td>15957319</td>\n",
              "      <td>2018-07-22 07:14:24 UTC</td>\n",
              "      <td>2</td>\n",
              "      <td>1</td>\n",
              "      <td>1</td>\n",
              "      <td>2018-07</td>\n",
              "    </tr>\n",
              "  </tbody>\n",
              "</table>\n",
              "</div>\n",
              "      <button class=\"colab-df-convert\" onclick=\"convertToInteractive('df-1e0a01a5-b24a-443a-866a-7050b6f3f0ea')\"\n",
              "              title=\"Convert this dataframe to an interactive table.\"\n",
              "              style=\"display:none;\">\n",
              "        \n",
              "  <svg xmlns=\"http://www.w3.org/2000/svg\" height=\"24px\"viewBox=\"0 0 24 24\"\n",
              "       width=\"24px\">\n",
              "    <path d=\"M0 0h24v24H0V0z\" fill=\"none\"/>\n",
              "    <path d=\"M18.56 5.44l.94 2.06.94-2.06 2.06-.94-2.06-.94-.94-2.06-.94 2.06-2.06.94zm-11 1L8.5 8.5l.94-2.06 2.06-.94-2.06-.94L8.5 2.5l-.94 2.06-2.06.94zm10 10l.94 2.06.94-2.06 2.06-.94-2.06-.94-.94-2.06-.94 2.06-2.06.94z\"/><path d=\"M17.41 7.96l-1.37-1.37c-.4-.4-.92-.59-1.43-.59-.52 0-1.04.2-1.43.59L10.3 9.45l-7.72 7.72c-.78.78-.78 2.05 0 2.83L4 21.41c.39.39.9.59 1.41.59.51 0 1.02-.2 1.41-.59l7.78-7.78 2.81-2.81c.8-.78.8-2.07 0-2.86zM5.41 20L4 18.59l7.72-7.72 1.47 1.35L5.41 20z\"/>\n",
              "  </svg>\n",
              "      </button>\n",
              "      \n",
              "  <style>\n",
              "    .colab-df-container {\n",
              "      display:flex;\n",
              "      flex-wrap:wrap;\n",
              "      gap: 12px;\n",
              "    }\n",
              "\n",
              "    .colab-df-convert {\n",
              "      background-color: #E8F0FE;\n",
              "      border: none;\n",
              "      border-radius: 50%;\n",
              "      cursor: pointer;\n",
              "      display: none;\n",
              "      fill: #1967D2;\n",
              "      height: 32px;\n",
              "      padding: 0 0 0 0;\n",
              "      width: 32px;\n",
              "    }\n",
              "\n",
              "    .colab-df-convert:hover {\n",
              "      background-color: #E2EBFA;\n",
              "      box-shadow: 0px 1px 2px rgba(60, 64, 67, 0.3), 0px 1px 3px 1px rgba(60, 64, 67, 0.15);\n",
              "      fill: #174EA6;\n",
              "    }\n",
              "\n",
              "    [theme=dark] .colab-df-convert {\n",
              "      background-color: #3B4455;\n",
              "      fill: #D2E3FC;\n",
              "    }\n",
              "\n",
              "    [theme=dark] .colab-df-convert:hover {\n",
              "      background-color: #434B5C;\n",
              "      box-shadow: 0px 1px 3px 1px rgba(0, 0, 0, 0.15);\n",
              "      filter: drop-shadow(0px 1px 2px rgba(0, 0, 0, 0.3));\n",
              "      fill: #FFFFFF;\n",
              "    }\n",
              "  </style>\n",
              "\n",
              "      <script>\n",
              "        const buttonEl =\n",
              "          document.querySelector('#df-1e0a01a5-b24a-443a-866a-7050b6f3f0ea button.colab-df-convert');\n",
              "        buttonEl.style.display =\n",
              "          google.colab.kernel.accessAllowed ? 'block' : 'none';\n",
              "\n",
              "        async function convertToInteractive(key) {\n",
              "          const element = document.querySelector('#df-1e0a01a5-b24a-443a-866a-7050b6f3f0ea');\n",
              "          const dataTable =\n",
              "            await google.colab.kernel.invokeFunction('convertToInteractive',\n",
              "                                                     [key], {});\n",
              "          if (!dataTable) return;\n",
              "\n",
              "          const docLinkHtml = 'Like what you see? Visit the ' +\n",
              "            '<a target=\"_blank\" href=https://colab.research.google.com/notebooks/data_table.ipynb>data table notebook</a>'\n",
              "            + ' to learn more about interactive tables.';\n",
              "          element.innerHTML = '';\n",
              "          dataTable['output_type'] = 'display_data';\n",
              "          await google.colab.output.renderOutput(dataTable, element);\n",
              "          const docLink = document.createElement('div');\n",
              "          docLink.innerHTML = docLinkHtml;\n",
              "          element.appendChild(docLink);\n",
              "        }\n",
              "      </script>\n",
              "    </div>\n",
              "  </div>\n",
              "  "
            ]
          },
          "metadata": {}
        },
        {
          "output_type": "stream",
          "name": "stdout",
          "text": [
            "<class 'pandas.core.frame.DataFrame'>\n",
            "RangeIndex: 3412682 entries, 0 to 3412681\n",
            "Data columns (total 8 columns):\n",
            " #   Column                  Dtype  \n",
            "---  ------                  -----  \n",
            " 0   Unnamed: 0              int64  \n",
            " 1   Amount                  float64\n",
            " 2   PayeeRefID              int64  \n",
            " 3   CreatedDate             object \n",
            " 4   TransactionStatusRefID  int64  \n",
            " 5   AgentRefID              int64  \n",
            " 6   DistributorRefID        int64  \n",
            " 7   date                    object \n",
            "dtypes: float64(1), int64(5), object(2)\n",
            "memory usage: 208.3+ MB\n"
          ]
        },
        {
          "output_type": "execute_result",
          "data": {
            "text/plain": [
              "         Unnamed: 0        Amount    PayeeRefID  TransactionStatusRefID  \\\n",
              "count  3.412682e+06  3.412682e+06  3.412682e+06            3.412682e+06   \n",
              "mean   1.706340e+06  2.474055e+03  1.222930e+07            2.254620e+00   \n",
              "std    9.851566e+05  3.318672e+03  8.836741e+06            1.171772e+00   \n",
              "min    0.000000e+00  5.500000e-01  0.000000e+00            1.000000e+00   \n",
              "25%    8.531702e+05  1.000000e+00  0.000000e+00            2.000000e+00   \n",
              "50%    1.706340e+06  2.000000e+03  1.550672e+07            2.000000e+00   \n",
              "75%    2.559511e+06  4.100000e+03  1.968568e+07            2.000000e+00   \n",
              "max    3.412681e+06  4.999900e+04  2.503252e+07            1.000000e+01   \n",
              "\n",
              "         AgentRefID  DistributorRefID  \n",
              "count  3.412682e+06      3.412682e+06  \n",
              "mean   1.162550e+03      7.610891e+02  \n",
              "std    1.225874e+03      8.514879e+02  \n",
              "min    1.000000e+00      1.000000e+00  \n",
              "25%    2.890000e+02      1.930000e+02  \n",
              "50%    6.740000e+02      3.870000e+02  \n",
              "75%    1.677000e+03      1.095000e+03  \n",
              "max    4.596000e+03      3.131000e+03  "
            ],
            "text/html": [
              "\n",
              "  <div id=\"df-00bcee3d-a4bd-4691-a7b8-19435fa9f81d\">\n",
              "    <div class=\"colab-df-container\">\n",
              "      <div>\n",
              "<style scoped>\n",
              "    .dataframe tbody tr th:only-of-type {\n",
              "        vertical-align: middle;\n",
              "    }\n",
              "\n",
              "    .dataframe tbody tr th {\n",
              "        vertical-align: top;\n",
              "    }\n",
              "\n",
              "    .dataframe thead th {\n",
              "        text-align: right;\n",
              "    }\n",
              "</style>\n",
              "<table border=\"1\" class=\"dataframe\">\n",
              "  <thead>\n",
              "    <tr style=\"text-align: right;\">\n",
              "      <th></th>\n",
              "      <th>Unnamed: 0</th>\n",
              "      <th>Amount</th>\n",
              "      <th>PayeeRefID</th>\n",
              "      <th>TransactionStatusRefID</th>\n",
              "      <th>AgentRefID</th>\n",
              "      <th>DistributorRefID</th>\n",
              "    </tr>\n",
              "  </thead>\n",
              "  <tbody>\n",
              "    <tr>\n",
              "      <th>count</th>\n",
              "      <td>3.412682e+06</td>\n",
              "      <td>3.412682e+06</td>\n",
              "      <td>3.412682e+06</td>\n",
              "      <td>3.412682e+06</td>\n",
              "      <td>3.412682e+06</td>\n",
              "      <td>3.412682e+06</td>\n",
              "    </tr>\n",
              "    <tr>\n",
              "      <th>mean</th>\n",
              "      <td>1.706340e+06</td>\n",
              "      <td>2.474055e+03</td>\n",
              "      <td>1.222930e+07</td>\n",
              "      <td>2.254620e+00</td>\n",
              "      <td>1.162550e+03</td>\n",
              "      <td>7.610891e+02</td>\n",
              "    </tr>\n",
              "    <tr>\n",
              "      <th>std</th>\n",
              "      <td>9.851566e+05</td>\n",
              "      <td>3.318672e+03</td>\n",
              "      <td>8.836741e+06</td>\n",
              "      <td>1.171772e+00</td>\n",
              "      <td>1.225874e+03</td>\n",
              "      <td>8.514879e+02</td>\n",
              "    </tr>\n",
              "    <tr>\n",
              "      <th>min</th>\n",
              "      <td>0.000000e+00</td>\n",
              "      <td>5.500000e-01</td>\n",
              "      <td>0.000000e+00</td>\n",
              "      <td>1.000000e+00</td>\n",
              "      <td>1.000000e+00</td>\n",
              "      <td>1.000000e+00</td>\n",
              "    </tr>\n",
              "    <tr>\n",
              "      <th>25%</th>\n",
              "      <td>8.531702e+05</td>\n",
              "      <td>1.000000e+00</td>\n",
              "      <td>0.000000e+00</td>\n",
              "      <td>2.000000e+00</td>\n",
              "      <td>2.890000e+02</td>\n",
              "      <td>1.930000e+02</td>\n",
              "    </tr>\n",
              "    <tr>\n",
              "      <th>50%</th>\n",
              "      <td>1.706340e+06</td>\n",
              "      <td>2.000000e+03</td>\n",
              "      <td>1.550672e+07</td>\n",
              "      <td>2.000000e+00</td>\n",
              "      <td>6.740000e+02</td>\n",
              "      <td>3.870000e+02</td>\n",
              "    </tr>\n",
              "    <tr>\n",
              "      <th>75%</th>\n",
              "      <td>2.559511e+06</td>\n",
              "      <td>4.100000e+03</td>\n",
              "      <td>1.968568e+07</td>\n",
              "      <td>2.000000e+00</td>\n",
              "      <td>1.677000e+03</td>\n",
              "      <td>1.095000e+03</td>\n",
              "    </tr>\n",
              "    <tr>\n",
              "      <th>max</th>\n",
              "      <td>3.412681e+06</td>\n",
              "      <td>4.999900e+04</td>\n",
              "      <td>2.503252e+07</td>\n",
              "      <td>1.000000e+01</td>\n",
              "      <td>4.596000e+03</td>\n",
              "      <td>3.131000e+03</td>\n",
              "    </tr>\n",
              "  </tbody>\n",
              "</table>\n",
              "</div>\n",
              "      <button class=\"colab-df-convert\" onclick=\"convertToInteractive('df-00bcee3d-a4bd-4691-a7b8-19435fa9f81d')\"\n",
              "              title=\"Convert this dataframe to an interactive table.\"\n",
              "              style=\"display:none;\">\n",
              "        \n",
              "  <svg xmlns=\"http://www.w3.org/2000/svg\" height=\"24px\"viewBox=\"0 0 24 24\"\n",
              "       width=\"24px\">\n",
              "    <path d=\"M0 0h24v24H0V0z\" fill=\"none\"/>\n",
              "    <path d=\"M18.56 5.44l.94 2.06.94-2.06 2.06-.94-2.06-.94-.94-2.06-.94 2.06-2.06.94zm-11 1L8.5 8.5l.94-2.06 2.06-.94-2.06-.94L8.5 2.5l-.94 2.06-2.06.94zm10 10l.94 2.06.94-2.06 2.06-.94-2.06-.94-.94-2.06-.94 2.06-2.06.94z\"/><path d=\"M17.41 7.96l-1.37-1.37c-.4-.4-.92-.59-1.43-.59-.52 0-1.04.2-1.43.59L10.3 9.45l-7.72 7.72c-.78.78-.78 2.05 0 2.83L4 21.41c.39.39.9.59 1.41.59.51 0 1.02-.2 1.41-.59l7.78-7.78 2.81-2.81c.8-.78.8-2.07 0-2.86zM5.41 20L4 18.59l7.72-7.72 1.47 1.35L5.41 20z\"/>\n",
              "  </svg>\n",
              "      </button>\n",
              "      \n",
              "  <style>\n",
              "    .colab-df-container {\n",
              "      display:flex;\n",
              "      flex-wrap:wrap;\n",
              "      gap: 12px;\n",
              "    }\n",
              "\n",
              "    .colab-df-convert {\n",
              "      background-color: #E8F0FE;\n",
              "      border: none;\n",
              "      border-radius: 50%;\n",
              "      cursor: pointer;\n",
              "      display: none;\n",
              "      fill: #1967D2;\n",
              "      height: 32px;\n",
              "      padding: 0 0 0 0;\n",
              "      width: 32px;\n",
              "    }\n",
              "\n",
              "    .colab-df-convert:hover {\n",
              "      background-color: #E2EBFA;\n",
              "      box-shadow: 0px 1px 2px rgba(60, 64, 67, 0.3), 0px 1px 3px 1px rgba(60, 64, 67, 0.15);\n",
              "      fill: #174EA6;\n",
              "    }\n",
              "\n",
              "    [theme=dark] .colab-df-convert {\n",
              "      background-color: #3B4455;\n",
              "      fill: #D2E3FC;\n",
              "    }\n",
              "\n",
              "    [theme=dark] .colab-df-convert:hover {\n",
              "      background-color: #434B5C;\n",
              "      box-shadow: 0px 1px 3px 1px rgba(0, 0, 0, 0.15);\n",
              "      filter: drop-shadow(0px 1px 2px rgba(0, 0, 0, 0.3));\n",
              "      fill: #FFFFFF;\n",
              "    }\n",
              "  </style>\n",
              "\n",
              "      <script>\n",
              "        const buttonEl =\n",
              "          document.querySelector('#df-00bcee3d-a4bd-4691-a7b8-19435fa9f81d button.colab-df-convert');\n",
              "        buttonEl.style.display =\n",
              "          google.colab.kernel.accessAllowed ? 'block' : 'none';\n",
              "\n",
              "        async function convertToInteractive(key) {\n",
              "          const element = document.querySelector('#df-00bcee3d-a4bd-4691-a7b8-19435fa9f81d');\n",
              "          const dataTable =\n",
              "            await google.colab.kernel.invokeFunction('convertToInteractive',\n",
              "                                                     [key], {});\n",
              "          if (!dataTable) return;\n",
              "\n",
              "          const docLinkHtml = 'Like what you see? Visit the ' +\n",
              "            '<a target=\"_blank\" href=https://colab.research.google.com/notebooks/data_table.ipynb>data table notebook</a>'\n",
              "            + ' to learn more about interactive tables.';\n",
              "          element.innerHTML = '';\n",
              "          dataTable['output_type'] = 'display_data';\n",
              "          await google.colab.output.renderOutput(dataTable, element);\n",
              "          const docLink = document.createElement('div');\n",
              "          docLink.innerHTML = docLinkHtml;\n",
              "          element.appendChild(docLink);\n",
              "        }\n",
              "      </script>\n",
              "    </div>\n",
              "  </div>\n",
              "  "
            ]
          },
          "metadata": {},
          "execution_count": 253
        }
      ]
    },
    {
      "cell_type": "markdown",
      "source": [
        "Transaction Amount ranges between 0.55 Rupees and 5000 Rupees"
      ],
      "metadata": {
        "id": "io7Gsz-KZQkV"
      },
      "id": "io7Gsz-KZQkV"
    },
    {
      "cell_type": "markdown",
      "source": [
        "## **Checking Data For Missing Values**"
      ],
      "metadata": {
        "id": "4-vZfqnbdbNz"
      },
      "id": "4-vZfqnbdbNz"
    },
    {
      "cell_type": "code",
      "source": [
        "interview_txn_data.isnull().values.any()"
      ],
      "metadata": {
        "colab": {
          "base_uri": "https://localhost:8080/"
        },
        "id": "fD1qNl2wdZXx",
        "outputId": "71ef709b-c886-4ed9-e581-3583be8b79c8"
      },
      "id": "fD1qNl2wdZXx",
      "execution_count": 254,
      "outputs": [
        {
          "output_type": "execute_result",
          "data": {
            "text/plain": [
              "False"
            ]
          },
          "metadata": {},
          "execution_count": 254
        }
      ]
    },
    {
      "cell_type": "markdown",
      "source": [
        "## **Changing time format to Month/Year**"
      ],
      "metadata": {
        "id": "uqzONGoua15v"
      },
      "id": "uqzONGoua15v"
    },
    {
      "cell_type": "markdown",
      "source": [
        "The following cells were run once and the corresponding DF was saved in a CSV. This was done in order to reduce the computation time as the number of datapoints were to huge."
      ],
      "metadata": {
        "id": "QX-STVI3M_Gj"
      },
      "id": "QX-STVI3M_Gj"
    },
    {
      "cell_type": "code",
      "source": [
        "#To change Datetime format to MM-YYYY \n",
        "# func = {lambda x: pd.Timestamp(x).strftime('%Y-%m')}\n",
        "# interview_txn_data['date'] = interview_txn_data['CreatedDate'].apply(func,raw=True)"
      ],
      "metadata": {
        "id": "XHEfhkl1TeSK"
      },
      "id": "XHEfhkl1TeSK",
      "execution_count": 255,
      "outputs": []
    },
    {
      "cell_type": "code",
      "source": [
        "df = interview_txn_data.copy()\n",
        "display(df.head())"
      ],
      "metadata": {
        "colab": {
          "base_uri": "https://localhost:8080/",
          "height": 206
        },
        "id": "UWL9ovXxTWkM",
        "outputId": "bfee386e-7243-4465-ea1f-92150c13e0f9"
      },
      "id": "UWL9ovXxTWkM",
      "execution_count": 256,
      "outputs": [
        {
          "output_type": "display_data",
          "data": {
            "text/plain": [
              "   Unnamed: 0  Amount  PayeeRefID              CreatedDate  \\\n",
              "0           0     2.0       12104  2018-10-14 13:52:31 UTC   \n",
              "1           1     2.0       12104  2018-08-11 16:55:33 UTC   \n",
              "2           2     2.0    24979501  2019-02-21 16:33:03 UTC   \n",
              "3           3     2.0       12104  2018-09-20 18:15:22 UTC   \n",
              "4           4   100.0    15957319  2018-07-22 07:14:24 UTC   \n",
              "\n",
              "   TransactionStatusRefID  AgentRefID  DistributorRefID     date  \n",
              "0                       2           1                 1  2018-10  \n",
              "1                       2           1                 1  2018-08  \n",
              "2                       2           1                 1  2019-02  \n",
              "3                       2           1                 1  2018-09  \n",
              "4                       2           1                 1  2018-07  "
            ],
            "text/html": [
              "\n",
              "  <div id=\"df-5e6acdd4-98c7-4bfd-9ed3-db060e8ffe7f\">\n",
              "    <div class=\"colab-df-container\">\n",
              "      <div>\n",
              "<style scoped>\n",
              "    .dataframe tbody tr th:only-of-type {\n",
              "        vertical-align: middle;\n",
              "    }\n",
              "\n",
              "    .dataframe tbody tr th {\n",
              "        vertical-align: top;\n",
              "    }\n",
              "\n",
              "    .dataframe thead th {\n",
              "        text-align: right;\n",
              "    }\n",
              "</style>\n",
              "<table border=\"1\" class=\"dataframe\">\n",
              "  <thead>\n",
              "    <tr style=\"text-align: right;\">\n",
              "      <th></th>\n",
              "      <th>Unnamed: 0</th>\n",
              "      <th>Amount</th>\n",
              "      <th>PayeeRefID</th>\n",
              "      <th>CreatedDate</th>\n",
              "      <th>TransactionStatusRefID</th>\n",
              "      <th>AgentRefID</th>\n",
              "      <th>DistributorRefID</th>\n",
              "      <th>date</th>\n",
              "    </tr>\n",
              "  </thead>\n",
              "  <tbody>\n",
              "    <tr>\n",
              "      <th>0</th>\n",
              "      <td>0</td>\n",
              "      <td>2.0</td>\n",
              "      <td>12104</td>\n",
              "      <td>2018-10-14 13:52:31 UTC</td>\n",
              "      <td>2</td>\n",
              "      <td>1</td>\n",
              "      <td>1</td>\n",
              "      <td>2018-10</td>\n",
              "    </tr>\n",
              "    <tr>\n",
              "      <th>1</th>\n",
              "      <td>1</td>\n",
              "      <td>2.0</td>\n",
              "      <td>12104</td>\n",
              "      <td>2018-08-11 16:55:33 UTC</td>\n",
              "      <td>2</td>\n",
              "      <td>1</td>\n",
              "      <td>1</td>\n",
              "      <td>2018-08</td>\n",
              "    </tr>\n",
              "    <tr>\n",
              "      <th>2</th>\n",
              "      <td>2</td>\n",
              "      <td>2.0</td>\n",
              "      <td>24979501</td>\n",
              "      <td>2019-02-21 16:33:03 UTC</td>\n",
              "      <td>2</td>\n",
              "      <td>1</td>\n",
              "      <td>1</td>\n",
              "      <td>2019-02</td>\n",
              "    </tr>\n",
              "    <tr>\n",
              "      <th>3</th>\n",
              "      <td>3</td>\n",
              "      <td>2.0</td>\n",
              "      <td>12104</td>\n",
              "      <td>2018-09-20 18:15:22 UTC</td>\n",
              "      <td>2</td>\n",
              "      <td>1</td>\n",
              "      <td>1</td>\n",
              "      <td>2018-09</td>\n",
              "    </tr>\n",
              "    <tr>\n",
              "      <th>4</th>\n",
              "      <td>4</td>\n",
              "      <td>100.0</td>\n",
              "      <td>15957319</td>\n",
              "      <td>2018-07-22 07:14:24 UTC</td>\n",
              "      <td>2</td>\n",
              "      <td>1</td>\n",
              "      <td>1</td>\n",
              "      <td>2018-07</td>\n",
              "    </tr>\n",
              "  </tbody>\n",
              "</table>\n",
              "</div>\n",
              "      <button class=\"colab-df-convert\" onclick=\"convertToInteractive('df-5e6acdd4-98c7-4bfd-9ed3-db060e8ffe7f')\"\n",
              "              title=\"Convert this dataframe to an interactive table.\"\n",
              "              style=\"display:none;\">\n",
              "        \n",
              "  <svg xmlns=\"http://www.w3.org/2000/svg\" height=\"24px\"viewBox=\"0 0 24 24\"\n",
              "       width=\"24px\">\n",
              "    <path d=\"M0 0h24v24H0V0z\" fill=\"none\"/>\n",
              "    <path d=\"M18.56 5.44l.94 2.06.94-2.06 2.06-.94-2.06-.94-.94-2.06-.94 2.06-2.06.94zm-11 1L8.5 8.5l.94-2.06 2.06-.94-2.06-.94L8.5 2.5l-.94 2.06-2.06.94zm10 10l.94 2.06.94-2.06 2.06-.94-2.06-.94-.94-2.06-.94 2.06-2.06.94z\"/><path d=\"M17.41 7.96l-1.37-1.37c-.4-.4-.92-.59-1.43-.59-.52 0-1.04.2-1.43.59L10.3 9.45l-7.72 7.72c-.78.78-.78 2.05 0 2.83L4 21.41c.39.39.9.59 1.41.59.51 0 1.02-.2 1.41-.59l7.78-7.78 2.81-2.81c.8-.78.8-2.07 0-2.86zM5.41 20L4 18.59l7.72-7.72 1.47 1.35L5.41 20z\"/>\n",
              "  </svg>\n",
              "      </button>\n",
              "      \n",
              "  <style>\n",
              "    .colab-df-container {\n",
              "      display:flex;\n",
              "      flex-wrap:wrap;\n",
              "      gap: 12px;\n",
              "    }\n",
              "\n",
              "    .colab-df-convert {\n",
              "      background-color: #E8F0FE;\n",
              "      border: none;\n",
              "      border-radius: 50%;\n",
              "      cursor: pointer;\n",
              "      display: none;\n",
              "      fill: #1967D2;\n",
              "      height: 32px;\n",
              "      padding: 0 0 0 0;\n",
              "      width: 32px;\n",
              "    }\n",
              "\n",
              "    .colab-df-convert:hover {\n",
              "      background-color: #E2EBFA;\n",
              "      box-shadow: 0px 1px 2px rgba(60, 64, 67, 0.3), 0px 1px 3px 1px rgba(60, 64, 67, 0.15);\n",
              "      fill: #174EA6;\n",
              "    }\n",
              "\n",
              "    [theme=dark] .colab-df-convert {\n",
              "      background-color: #3B4455;\n",
              "      fill: #D2E3FC;\n",
              "    }\n",
              "\n",
              "    [theme=dark] .colab-df-convert:hover {\n",
              "      background-color: #434B5C;\n",
              "      box-shadow: 0px 1px 3px 1px rgba(0, 0, 0, 0.15);\n",
              "      filter: drop-shadow(0px 1px 2px rgba(0, 0, 0, 0.3));\n",
              "      fill: #FFFFFF;\n",
              "    }\n",
              "  </style>\n",
              "\n",
              "      <script>\n",
              "        const buttonEl =\n",
              "          document.querySelector('#df-5e6acdd4-98c7-4bfd-9ed3-db060e8ffe7f button.colab-df-convert');\n",
              "        buttonEl.style.display =\n",
              "          google.colab.kernel.accessAllowed ? 'block' : 'none';\n",
              "\n",
              "        async function convertToInteractive(key) {\n",
              "          const element = document.querySelector('#df-5e6acdd4-98c7-4bfd-9ed3-db060e8ffe7f');\n",
              "          const dataTable =\n",
              "            await google.colab.kernel.invokeFunction('convertToInteractive',\n",
              "                                                     [key], {});\n",
              "          if (!dataTable) return;\n",
              "\n",
              "          const docLinkHtml = 'Like what you see? Visit the ' +\n",
              "            '<a target=\"_blank\" href=https://colab.research.google.com/notebooks/data_table.ipynb>data table notebook</a>'\n",
              "            + ' to learn more about interactive tables.';\n",
              "          element.innerHTML = '';\n",
              "          dataTable['output_type'] = 'display_data';\n",
              "          await google.colab.output.renderOutput(dataTable, element);\n",
              "          const docLink = document.createElement('div');\n",
              "          docLink.innerHTML = docLinkHtml;\n",
              "          element.appendChild(docLink);\n",
              "        }\n",
              "      </script>\n",
              "    </div>\n",
              "  </div>\n",
              "  "
            ]
          },
          "metadata": {}
        }
      ]
    },
    {
      "cell_type": "markdown",
      "source": [
        "## **Monthly transaction Volume:**"
      ],
      "metadata": {
        "id": "W3R0SWLXRTOj"
      },
      "id": "W3R0SWLXRTOj"
    },
    {
      "cell_type": "code",
      "source": [
        "#Check Transaction Volume w.r.t months\n",
        "df2 = df.groupby(['date'])['TransactionStatusRefID'].count()\n",
        "df2 = pd.DataFrame({'date':df2.index, 'Count':df2.values})\n",
        "df2.head(30)"
      ],
      "metadata": {
        "colab": {
          "base_uri": "https://localhost:8080/",
          "height": 300
        },
        "id": "GdVJ4AhNV8Rx",
        "outputId": "6d2fbe28-99a2-4479-a8b0-ea64ec70344a"
      },
      "id": "GdVJ4AhNV8Rx",
      "execution_count": 257,
      "outputs": [
        {
          "output_type": "execute_result",
          "data": {
            "text/plain": [
              "      date   Count\n",
              "0  2018-07  426778\n",
              "1  2018-08  463881\n",
              "2  2018-09  477708\n",
              "3  2018-10  418334\n",
              "4  2018-11  406087\n",
              "5  2018-12  486264\n",
              "6  2019-01  424869\n",
              "7  2019-02  308761"
            ],
            "text/html": [
              "\n",
              "  <div id=\"df-04b4fcdf-c74e-4efc-bcdd-4078bbe20095\">\n",
              "    <div class=\"colab-df-container\">\n",
              "      <div>\n",
              "<style scoped>\n",
              "    .dataframe tbody tr th:only-of-type {\n",
              "        vertical-align: middle;\n",
              "    }\n",
              "\n",
              "    .dataframe tbody tr th {\n",
              "        vertical-align: top;\n",
              "    }\n",
              "\n",
              "    .dataframe thead th {\n",
              "        text-align: right;\n",
              "    }\n",
              "</style>\n",
              "<table border=\"1\" class=\"dataframe\">\n",
              "  <thead>\n",
              "    <tr style=\"text-align: right;\">\n",
              "      <th></th>\n",
              "      <th>date</th>\n",
              "      <th>Count</th>\n",
              "    </tr>\n",
              "  </thead>\n",
              "  <tbody>\n",
              "    <tr>\n",
              "      <th>0</th>\n",
              "      <td>2018-07</td>\n",
              "      <td>426778</td>\n",
              "    </tr>\n",
              "    <tr>\n",
              "      <th>1</th>\n",
              "      <td>2018-08</td>\n",
              "      <td>463881</td>\n",
              "    </tr>\n",
              "    <tr>\n",
              "      <th>2</th>\n",
              "      <td>2018-09</td>\n",
              "      <td>477708</td>\n",
              "    </tr>\n",
              "    <tr>\n",
              "      <th>3</th>\n",
              "      <td>2018-10</td>\n",
              "      <td>418334</td>\n",
              "    </tr>\n",
              "    <tr>\n",
              "      <th>4</th>\n",
              "      <td>2018-11</td>\n",
              "      <td>406087</td>\n",
              "    </tr>\n",
              "    <tr>\n",
              "      <th>5</th>\n",
              "      <td>2018-12</td>\n",
              "      <td>486264</td>\n",
              "    </tr>\n",
              "    <tr>\n",
              "      <th>6</th>\n",
              "      <td>2019-01</td>\n",
              "      <td>424869</td>\n",
              "    </tr>\n",
              "    <tr>\n",
              "      <th>7</th>\n",
              "      <td>2019-02</td>\n",
              "      <td>308761</td>\n",
              "    </tr>\n",
              "  </tbody>\n",
              "</table>\n",
              "</div>\n",
              "      <button class=\"colab-df-convert\" onclick=\"convertToInteractive('df-04b4fcdf-c74e-4efc-bcdd-4078bbe20095')\"\n",
              "              title=\"Convert this dataframe to an interactive table.\"\n",
              "              style=\"display:none;\">\n",
              "        \n",
              "  <svg xmlns=\"http://www.w3.org/2000/svg\" height=\"24px\"viewBox=\"0 0 24 24\"\n",
              "       width=\"24px\">\n",
              "    <path d=\"M0 0h24v24H0V0z\" fill=\"none\"/>\n",
              "    <path d=\"M18.56 5.44l.94 2.06.94-2.06 2.06-.94-2.06-.94-.94-2.06-.94 2.06-2.06.94zm-11 1L8.5 8.5l.94-2.06 2.06-.94-2.06-.94L8.5 2.5l-.94 2.06-2.06.94zm10 10l.94 2.06.94-2.06 2.06-.94-2.06-.94-.94-2.06-.94 2.06-2.06.94z\"/><path d=\"M17.41 7.96l-1.37-1.37c-.4-.4-.92-.59-1.43-.59-.52 0-1.04.2-1.43.59L10.3 9.45l-7.72 7.72c-.78.78-.78 2.05 0 2.83L4 21.41c.39.39.9.59 1.41.59.51 0 1.02-.2 1.41-.59l7.78-7.78 2.81-2.81c.8-.78.8-2.07 0-2.86zM5.41 20L4 18.59l7.72-7.72 1.47 1.35L5.41 20z\"/>\n",
              "  </svg>\n",
              "      </button>\n",
              "      \n",
              "  <style>\n",
              "    .colab-df-container {\n",
              "      display:flex;\n",
              "      flex-wrap:wrap;\n",
              "      gap: 12px;\n",
              "    }\n",
              "\n",
              "    .colab-df-convert {\n",
              "      background-color: #E8F0FE;\n",
              "      border: none;\n",
              "      border-radius: 50%;\n",
              "      cursor: pointer;\n",
              "      display: none;\n",
              "      fill: #1967D2;\n",
              "      height: 32px;\n",
              "      padding: 0 0 0 0;\n",
              "      width: 32px;\n",
              "    }\n",
              "\n",
              "    .colab-df-convert:hover {\n",
              "      background-color: #E2EBFA;\n",
              "      box-shadow: 0px 1px 2px rgba(60, 64, 67, 0.3), 0px 1px 3px 1px rgba(60, 64, 67, 0.15);\n",
              "      fill: #174EA6;\n",
              "    }\n",
              "\n",
              "    [theme=dark] .colab-df-convert {\n",
              "      background-color: #3B4455;\n",
              "      fill: #D2E3FC;\n",
              "    }\n",
              "\n",
              "    [theme=dark] .colab-df-convert:hover {\n",
              "      background-color: #434B5C;\n",
              "      box-shadow: 0px 1px 3px 1px rgba(0, 0, 0, 0.15);\n",
              "      filter: drop-shadow(0px 1px 2px rgba(0, 0, 0, 0.3));\n",
              "      fill: #FFFFFF;\n",
              "    }\n",
              "  </style>\n",
              "\n",
              "      <script>\n",
              "        const buttonEl =\n",
              "          document.querySelector('#df-04b4fcdf-c74e-4efc-bcdd-4078bbe20095 button.colab-df-convert');\n",
              "        buttonEl.style.display =\n",
              "          google.colab.kernel.accessAllowed ? 'block' : 'none';\n",
              "\n",
              "        async function convertToInteractive(key) {\n",
              "          const element = document.querySelector('#df-04b4fcdf-c74e-4efc-bcdd-4078bbe20095');\n",
              "          const dataTable =\n",
              "            await google.colab.kernel.invokeFunction('convertToInteractive',\n",
              "                                                     [key], {});\n",
              "          if (!dataTable) return;\n",
              "\n",
              "          const docLinkHtml = 'Like what you see? Visit the ' +\n",
              "            '<a target=\"_blank\" href=https://colab.research.google.com/notebooks/data_table.ipynb>data table notebook</a>'\n",
              "            + ' to learn more about interactive tables.';\n",
              "          element.innerHTML = '';\n",
              "          dataTable['output_type'] = 'display_data';\n",
              "          await google.colab.output.renderOutput(dataTable, element);\n",
              "          const docLink = document.createElement('div');\n",
              "          docLink.innerHTML = docLinkHtml;\n",
              "          element.appendChild(docLink);\n",
              "        }\n",
              "      </script>\n",
              "    </div>\n",
              "  </div>\n",
              "  "
            ]
          },
          "metadata": {},
          "execution_count": 257
        }
      ]
    },
    {
      "cell_type": "code",
      "source": [
        "plt.figure(figsize=(20, 10))\n",
        "plt.title(\"Monthly Transaction Volume Trends\")\n",
        "plt.xlabel(\"Months\")\n",
        "plt.ylabel(\"transaction_Count\")\n",
        "display(plt.plot(df2['date'], df2['Count'], color='orange', marker='o', linestyle='dashed',linewidth=2, markersize=12))"
      ],
      "metadata": {
        "colab": {
          "base_uri": "https://localhost:8080/",
          "height": 638
        },
        "id": "WEgT0q0RXEN7",
        "outputId": "495994fd-742b-4075-d171-3ad87d504868"
      },
      "id": "WEgT0q0RXEN7",
      "execution_count": 258,
      "outputs": [
        {
          "output_type": "display_data",
          "data": {
            "text/plain": [
              "[<matplotlib.lines.Line2D at 0x7f7bd346c750>]"
            ]
          },
          "metadata": {}
        },
        {
          "output_type": "display_data",
          "data": {
            "text/plain": [
              "<Figure size 1440x720 with 1 Axes>"
            ],
            "image/png": "[encoded data removed]"
          },
          "metadata": {
            "needs_background": "light"
          }
        }
      ]
    },
    {
      "cell_type": "markdown",
      "source": [
        "From the above graph it can be seen that the lending was reduced for the months of October and November but was highl during September and November which can be attributed to Festivities during october and November. I think the demand was high during september and october as businessess require credit for preparation of High Product Demand during festivities. Demand was low during January too but had a spike in December which signals similarity to the months of september to November."
      ],
      "metadata": {
        "id": "XG9IOJHILm4y"
      },
      "id": "XG9IOJHILm4y"
    },
    {
      "cell_type": "markdown",
      "source": [
        "## **Successfull Transactions for the entire period**"
      ],
      "metadata": {
        "id": "KovAIAkGMBm1"
      },
      "id": "KovAIAkGMBm1"
    },
    {
      "cell_type": "code",
      "source": [
        "df3 = df.groupby(['TransactionStatusRefID']).date.count()\n",
        "df3 = pd.DataFrame({'type':df3.index,'Count':df3.values})\n",
        "df3.head()"
      ],
      "metadata": {
        "colab": {
          "base_uri": "https://localhost:8080/",
          "height": 206
        },
        "id": "o8rAlF-4VWa1",
        "outputId": "d3a9e1ba-1f41-42fc-b116-7b15ed93f946"
      },
      "id": "o8rAlF-4VWa1",
      "execution_count": 259,
      "outputs": [
        {
          "output_type": "execute_result",
          "data": {
            "text/plain": [
              "   type    Count\n",
              "0     1    16723\n",
              "1     2  3219211\n",
              "2     4       19\n",
              "3     6   125228\n",
              "4     9    27299"
            ],
            "text/html": [
              "\n",
              "  <div id=\"df-c078c55c-3f31-432a-898c-d69332406053\">\n",
              "    <div class=\"colab-df-container\">\n",
              "      <div>\n",
              "<style scoped>\n",
              "    .dataframe tbody tr th:only-of-type {\n",
              "        vertical-align: middle;\n",
              "    }\n",
              "\n",
              "    .dataframe tbody tr th {\n",
              "        vertical-align: top;\n",
              "    }\n",
              "\n",
              "    .dataframe thead th {\n",
              "        text-align: right;\n",
              "    }\n",
              "</style>\n",
              "<table border=\"1\" class=\"dataframe\">\n",
              "  <thead>\n",
              "    <tr style=\"text-align: right;\">\n",
              "      <th></th>\n",
              "      <th>type</th>\n",
              "      <th>Count</th>\n",
              "    </tr>\n",
              "  </thead>\n",
              "  <tbody>\n",
              "    <tr>\n",
              "      <th>0</th>\n",
              "      <td>1</td>\n",
              "      <td>16723</td>\n",
              "    </tr>\n",
              "    <tr>\n",
              "      <th>1</th>\n",
              "      <td>2</td>\n",
              "      <td>3219211</td>\n",
              "    </tr>\n",
              "    <tr>\n",
              "      <th>2</th>\n",
              "      <td>4</td>\n",
              "      <td>19</td>\n",
              "    </tr>\n",
              "    <tr>\n",
              "      <th>3</th>\n",
              "      <td>6</td>\n",
              "      <td>125228</td>\n",
              "    </tr>\n",
              "    <tr>\n",
              "      <th>4</th>\n",
              "      <td>9</td>\n",
              "      <td>27299</td>\n",
              "    </tr>\n",
              "  </tbody>\n",
              "</table>\n",
              "</div>\n",
              "      <button class=\"colab-df-convert\" onclick=\"convertToInteractive('df-c078c55c-3f31-432a-898c-d69332406053')\"\n",
              "              title=\"Convert this dataframe to an interactive table.\"\n",
              "              style=\"display:none;\">\n",
              "        \n",
              "  <svg xmlns=\"http://www.w3.org/2000/svg\" height=\"24px\"viewBox=\"0 0 24 24\"\n",
              "       width=\"24px\">\n",
              "    <path d=\"M0 0h24v24H0V0z\" fill=\"none\"/>\n",
              "    <path d=\"M18.56 5.44l.94 2.06.94-2.06 2.06-.94-2.06-.94-.94-2.06-.94 2.06-2.06.94zm-11 1L8.5 8.5l.94-2.06 2.06-.94-2.06-.94L8.5 2.5l-.94 2.06-2.06.94zm10 10l.94 2.06.94-2.06 2.06-.94-2.06-.94-.94-2.06-.94 2.06-2.06.94z\"/><path d=\"M17.41 7.96l-1.37-1.37c-.4-.4-.92-.59-1.43-.59-.52 0-1.04.2-1.43.59L10.3 9.45l-7.72 7.72c-.78.78-.78 2.05 0 2.83L4 21.41c.39.39.9.59 1.41.59.51 0 1.02-.2 1.41-.59l7.78-7.78 2.81-2.81c.8-.78.8-2.07 0-2.86zM5.41 20L4 18.59l7.72-7.72 1.47 1.35L5.41 20z\"/>\n",
              "  </svg>\n",
              "      </button>\n",
              "      \n",
              "  <style>\n",
              "    .colab-df-container {\n",
              "      display:flex;\n",
              "      flex-wrap:wrap;\n",
              "      gap: 12px;\n",
              "    }\n",
              "\n",
              "    .colab-df-convert {\n",
              "      background-color: #E8F0FE;\n",
              "      border: none;\n",
              "      border-radius: 50%;\n",
              "      cursor: pointer;\n",
              "      display: none;\n",
              "      fill: #1967D2;\n",
              "      height: 32px;\n",
              "      padding: 0 0 0 0;\n",
              "      width: 32px;\n",
              "    }\n",
              "\n",
              "    .colab-df-convert:hover {\n",
              "      background-color: #E2EBFA;\n",
              "      box-shadow: 0px 1px 2px rgba(60, 64, 67, 0.3), 0px 1px 3px 1px rgba(60, 64, 67, 0.15);\n",
              "      fill: #174EA6;\n",
              "    }\n",
              "\n",
              "    [theme=dark] .colab-df-convert {\n",
              "      background-color: #3B4455;\n",
              "      fill: #D2E3FC;\n",
              "    }\n",
              "\n",
              "    [theme=dark] .colab-df-convert:hover {\n",
              "      background-color: #434B5C;\n",
              "      box-shadow: 0px 1px 3px 1px rgba(0, 0, 0, 0.15);\n",
              "      filter: drop-shadow(0px 1px 2px rgba(0, 0, 0, 0.3));\n",
              "      fill: #FFFFFF;\n",
              "    }\n",
              "  </style>\n",
              "\n",
              "      <script>\n",
              "        const buttonEl =\n",
              "          document.querySelector('#df-c078c55c-3f31-432a-898c-d69332406053 button.colab-df-convert');\n",
              "        buttonEl.style.display =\n",
              "          google.colab.kernel.accessAllowed ? 'block' : 'none';\n",
              "\n",
              "        async function convertToInteractive(key) {\n",
              "          const element = document.querySelector('#df-c078c55c-3f31-432a-898c-d69332406053');\n",
              "          const dataTable =\n",
              "            await google.colab.kernel.invokeFunction('convertToInteractive',\n",
              "                                                     [key], {});\n",
              "          if (!dataTable) return;\n",
              "\n",
              "          const docLinkHtml = 'Like what you see? Visit the ' +\n",
              "            '<a target=\"_blank\" href=https://colab.research.google.com/notebooks/data_table.ipynb>data table notebook</a>'\n",
              "            + ' to learn more about interactive tables.';\n",
              "          element.innerHTML = '';\n",
              "          dataTable['output_type'] = 'display_data';\n",
              "          await google.colab.output.renderOutput(dataTable, element);\n",
              "          const docLink = document.createElement('div');\n",
              "          docLink.innerHTML = docLinkHtml;\n",
              "          element.appendChild(docLink);\n",
              "        }\n",
              "      </script>\n",
              "    </div>\n",
              "  </div>\n",
              "  "
            ]
          },
          "metadata": {},
          "execution_count": 259
        }
      ]
    },
    {
      "cell_type": "code",
      "source": [
        "plt.figure(figsize=(20, 10))\n",
        "plt.title(\"Monthly Transaction Volume Trends\")\n",
        "plt.xlabel(\"Transaction Type\")\n",
        "plt.ylabel(\"transaction_Count\")\n",
        "display(plt.plot(df3['type'], df3['Count'], color='orange', marker='o', linestyle='dashed',linewidth=2, markersize=12))\n",
        "del(df3)"
      ],
      "metadata": {
        "colab": {
          "base_uri": "https://localhost:8080/",
          "height": 638
        },
        "id": "10OINmZsZptz",
        "outputId": "6f06b785-015d-4f9b-e002-9425c48f8fbd"
      },
      "id": "10OINmZsZptz",
      "execution_count": 260,
      "outputs": [
        {
          "output_type": "display_data",
          "data": {
            "text/plain": [
              "[<matplotlib.lines.Line2D at 0x7f7bd371cf10>]"
            ]
          },
          "metadata": {}
        },
        {
          "output_type": "display_data",
          "data": {
            "text/plain": [
              "<Figure size 1440x720 with 1 Axes>"
            ],
            "image/png": "[encoded data removed]"
          },
          "metadata": {
            "needs_background": "light"
          }
        }
      ]
    },
    {
      "cell_type": "code",
      "source": [
        "df.loc[df[\"TransactionStatusRefID\"] == 2, \"TransactionStatusRefID\"] = \"Success\"\n",
        "df.loc[df[\"TransactionStatusRefID\"] != \"Success\", \"TransactionStatusRefID\"] = \"Failure\"\n",
        "df.head()"
      ],
      "metadata": {
        "colab": {
          "base_uri": "https://localhost:8080/",
          "height": 206
        },
        "id": "ig4aaoy3bCNY",
        "outputId": "d255372a-3906-4357-f62e-c30b4885fdd9"
      },
      "id": "ig4aaoy3bCNY",
      "execution_count": 261,
      "outputs": [
        {
          "output_type": "execute_result",
          "data": {
            "text/plain": [
              "   Unnamed: 0  Amount  PayeeRefID              CreatedDate  \\\n",
              "0           0     2.0       12104  2018-10-14 13:52:31 UTC   \n",
              "1           1     2.0       12104  2018-08-11 16:55:33 UTC   \n",
              "2           2     2.0    24979501  2019-02-21 16:33:03 UTC   \n",
              "3           3     2.0       12104  2018-09-20 18:15:22 UTC   \n",
              "4           4   100.0    15957319  2018-07-22 07:14:24 UTC   \n",
              "\n",
              "  TransactionStatusRefID  AgentRefID  DistributorRefID     date  \n",
              "0                Success           1                 1  2018-10  \n",
              "1                Success           1                 1  2018-08  \n",
              "2                Success           1                 1  2019-02  \n",
              "3                Success           1                 1  2018-09  \n",
              "4                Success           1                 1  2018-07  "
            ],
            "text/html": [
              "\n",
              "  <div id=\"df-0ac38a3d-af54-43ec-b713-07750b301308\">\n",
              "    <div class=\"colab-df-container\">\n",
              "      <div>\n",
              "<style scoped>\n",
              "    .dataframe tbody tr th:only-of-type {\n",
              "        vertical-align: middle;\n",
              "    }\n",
              "\n",
              "    .dataframe tbody tr th {\n",
              "        vertical-align: top;\n",
              "    }\n",
              "\n",
              "    .dataframe thead th {\n",
              "        text-align: right;\n",
              "    }\n",
              "</style>\n",
              "<table border=\"1\" class=\"dataframe\">\n",
              "  <thead>\n",
              "    <tr style=\"text-align: right;\">\n",
              "      <th></th>\n",
              "      <th>Unnamed: 0</th>\n",
              "      <th>Amount</th>\n",
              "      <th>PayeeRefID</th>\n",
              "      <th>CreatedDate</th>\n",
              "      <th>TransactionStatusRefID</th>\n",
              "      <th>AgentRefID</th>\n",
              "      <th>DistributorRefID</th>\n",
              "      <th>date</th>\n",
              "    </tr>\n",
              "  </thead>\n",
              "  <tbody>\n",
              "    <tr>\n",
              "      <th>0</th>\n",
              "      <td>0</td>\n",
              "      <td>2.0</td>\n",
              "      <td>12104</td>\n",
              "      <td>2018-10-14 13:52:31 UTC</td>\n",
              "      <td>Success</td>\n",
              "      <td>1</td>\n",
              "      <td>1</td>\n",
              "      <td>2018-10</td>\n",
              "    </tr>\n",
              "    <tr>\n",
              "      <th>1</th>\n",
              "      <td>1</td>\n",
              "      <td>2.0</td>\n",
              "      <td>12104</td>\n",
              "      <td>2018-08-11 16:55:33 UTC</td>\n",
              "      <td>Success</td>\n",
              "      <td>1</td>\n",
              "      <td>1</td>\n",
              "      <td>2018-08</td>\n",
              "    </tr>\n",
              "    <tr>\n",
              "      <th>2</th>\n",
              "      <td>2</td>\n",
              "      <td>2.0</td>\n",
              "      <td>24979501</td>\n",
              "      <td>2019-02-21 16:33:03 UTC</td>\n",
              "      <td>Success</td>\n",
              "      <td>1</td>\n",
              "      <td>1</td>\n",
              "      <td>2019-02</td>\n",
              "    </tr>\n",
              "    <tr>\n",
              "      <th>3</th>\n",
              "      <td>3</td>\n",
              "      <td>2.0</td>\n",
              "      <td>12104</td>\n",
              "      <td>2018-09-20 18:15:22 UTC</td>\n",
              "      <td>Success</td>\n",
              "      <td>1</td>\n",
              "      <td>1</td>\n",
              "      <td>2018-09</td>\n",
              "    </tr>\n",
              "    <tr>\n",
              "      <th>4</th>\n",
              "      <td>4</td>\n",
              "      <td>100.0</td>\n",
              "      <td>15957319</td>\n",
              "      <td>2018-07-22 07:14:24 UTC</td>\n",
              "      <td>Success</td>\n",
              "      <td>1</td>\n",
              "      <td>1</td>\n",
              "      <td>2018-07</td>\n",
              "    </tr>\n",
              "  </tbody>\n",
              "</table>\n",
              "</div>\n",
              "      <button class=\"colab-df-convert\" onclick=\"convertToInteractive('df-0ac38a3d-af54-43ec-b713-07750b301308')\"\n",
              "              title=\"Convert this dataframe to an interactive table.\"\n",
              "              style=\"display:none;\">\n",
              "        \n",
              "  <svg xmlns=\"http://www.w3.org/2000/svg\" height=\"24px\"viewBox=\"0 0 24 24\"\n",
              "       width=\"24px\">\n",
              "    <path d=\"M0 0h24v24H0V0z\" fill=\"none\"/>\n",
              "    <path d=\"M18.56 5.44l.94 2.06.94-2.06 2.06-.94-2.06-.94-.94-2.06-.94 2.06-2.06.94zm-11 1L8.5 8.5l.94-2.06 2.06-.94-2.06-.94L8.5 2.5l-.94 2.06-2.06.94zm10 10l.94 2.06.94-2.06 2.06-.94-2.06-.94-.94-2.06-.94 2.06-2.06.94z\"/><path d=\"M17.41 7.96l-1.37-1.37c-.4-.4-.92-.59-1.43-.59-.52 0-1.04.2-1.43.59L10.3 9.45l-7.72 7.72c-.78.78-.78 2.05 0 2.83L4 21.41c.39.39.9.59 1.41.59.51 0 1.02-.2 1.41-.59l7.78-7.78 2.81-2.81c.8-.78.8-2.07 0-2.86zM5.41 20L4 18.59l7.72-7.72 1.47 1.35L5.41 20z\"/>\n",
              "  </svg>\n",
              "      </button>\n",
              "      \n",
              "  <style>\n",
              "    .colab-df-container {\n",
              "      display:flex;\n",
              "      flex-wrap:wrap;\n",
              "      gap: 12px;\n",
              "    }\n",
              "\n",
              "    .colab-df-convert {\n",
              "      background-color: #E8F0FE;\n",
              "      border: none;\n",
              "      border-radius: 50%;\n",
              "      cursor: pointer;\n",
              "      display: none;\n",
              "      fill: #1967D2;\n",
              "      height: 32px;\n",
              "      padding: 0 0 0 0;\n",
              "      width: 32px;\n",
              "    }\n",
              "\n",
              "    .colab-df-convert:hover {\n",
              "      background-color: #E2EBFA;\n",
              "      box-shadow: 0px 1px 2px rgba(60, 64, 67, 0.3), 0px 1px 3px 1px rgba(60, 64, 67, 0.15);\n",
              "      fill: #174EA6;\n",
              "    }\n",
              "\n",
              "    [theme=dark] .colab-df-convert {\n",
              "      background-color: #3B4455;\n",
              "      fill: #D2E3FC;\n",
              "    }\n",
              "\n",
              "    [theme=dark] .colab-df-convert:hover {\n",
              "      background-color: #434B5C;\n",
              "      box-shadow: 0px 1px 3px 1px rgba(0, 0, 0, 0.15);\n",
              "      filter: drop-shadow(0px 1px 2px rgba(0, 0, 0, 0.3));\n",
              "      fill: #FFFFFF;\n",
              "    }\n",
              "  </style>\n",
              "\n",
              "      <script>\n",
              "        const buttonEl =\n",
              "          document.querySelector('#df-0ac38a3d-af54-43ec-b713-07750b301308 button.colab-df-convert');\n",
              "        buttonEl.style.display =\n",
              "          google.colab.kernel.accessAllowed ? 'block' : 'none';\n",
              "\n",
              "        async function convertToInteractive(key) {\n",
              "          const element = document.querySelector('#df-0ac38a3d-af54-43ec-b713-07750b301308');\n",
              "          const dataTable =\n",
              "            await google.colab.kernel.invokeFunction('convertToInteractive',\n",
              "                                                     [key], {});\n",
              "          if (!dataTable) return;\n",
              "\n",
              "          const docLinkHtml = 'Like what you see? Visit the ' +\n",
              "            '<a target=\"_blank\" href=https://colab.research.google.com/notebooks/data_table.ipynb>data table notebook</a>'\n",
              "            + ' to learn more about interactive tables.';\n",
              "          element.innerHTML = '';\n",
              "          dataTable['output_type'] = 'display_data';\n",
              "          await google.colab.output.renderOutput(dataTable, element);\n",
              "          const docLink = document.createElement('div');\n",
              "          docLink.innerHTML = docLinkHtml;\n",
              "          element.appendChild(docLink);\n",
              "        }\n",
              "      </script>\n",
              "    </div>\n",
              "  </div>\n",
              "  "
            ]
          },
          "metadata": {},
          "execution_count": 261
        }
      ]
    },
    {
      "cell_type": "code",
      "source": [
        "df5 = df.groupby(['TransactionStatusRefID']).count()\n",
        "df5.reset_index(inplace=True)"
      ],
      "metadata": {
        "id": "9OahmkkMbCTV"
      },
      "id": "9OahmkkMbCTV",
      "execution_count": 262,
      "outputs": []
    },
    {
      "cell_type": "markdown",
      "source": [
        "The Rate of Successfull Transaction was well over 94% throughout the period. Failed Transactions may arise due to a plethora of factors."
      ],
      "metadata": {
        "id": "gYJyjH9tYacZ"
      },
      "id": "gYJyjH9tYacZ"
    },
    {
      "cell_type": "code",
      "source": [
        "plt.figure(figsize=(20, 10))\n",
        "plt.title('Success and Failure Rate comparison')\n",
        "plt.pie( df5['date'],labels=['failure','success'],autopct='%1.1f%%')\n",
        "del(df5)"
      ],
      "metadata": {
        "colab": {
          "base_uri": "https://localhost:8080/",
          "height": 591
        },
        "id": "0HzCbK8hcSL-",
        "outputId": "6b63726d-5ca2-4349-e4b2-c6b8fbc9b6e0"
      },
      "id": "0HzCbK8hcSL-",
      "execution_count": 263,
      "outputs": [
        {
          "output_type": "display_data",
          "data": {
            "text/plain": [
              "<Figure size 1440x720 with 1 Axes>"
            ],
            "image/png": "[encoded data removed]"
          },
          "metadata": {}
        }
      ]
    },
    {
      "cell_type": "code",
      "source": [
        "months = df['date'].unique()\n",
        "dg = {}\n",
        "for x in range(len(months)):\n",
        "  dg[months[x]] = df.loc[df['date']==months[x]]"
      ],
      "metadata": {
        "id": "_z3DEpZJCo-2"
      },
      "id": "_z3DEpZJCo-2",
      "execution_count": 264,
      "outputs": []
    },
    {
      "cell_type": "code",
      "source": [
        "plt.figure(figsize=(40, 20))\n",
        "plt.subplots_adjust(hspace=0.4)\n",
        "plt.suptitle(\"Success Rate for Transactions\", fontsize=24, y=0.95)\n",
        "success = []\n",
        "failures = []\n",
        "for n, month in enumerate(months):\n",
        "    # add a new subplot iteratively\n",
        "    ax = plt.subplot(2,4, n + 1)\n",
        "\n",
        "    # filter df and plot ticker on the new subplot axis\n",
        "    ndf = dg[month].groupby(['TransactionStatusRefID']).count()\n",
        "    ndf.reset_index(inplace=True)\n",
        "    success.append(ndf['date'][0])\n",
        "    failures.append(ndf['date'][1])\n",
        "\n",
        "    plt.pie( ndf['date'],autopct='%1.1f%%')\n",
        "    # chart formatting\n",
        "    ax.set_title(month,fontsize=18)\n",
        "    ax.set_xlabel(\"\")\n"
      ],
      "metadata": {
        "colab": {
          "base_uri": "https://localhost:8080/",
          "height": 785
        },
        "id": "wtvWWVYvGKIJ",
        "outputId": "0775e2ec-b969-4225-a7d5-02ce108cee2a"
      },
      "id": "wtvWWVYvGKIJ",
      "execution_count": 265,
      "outputs": [
        {
          "output_type": "display_data",
          "data": {
            "text/plain": [
              "<Figure size 2880x1440 with 8 Axes>"
            ],
            "image/png": "[encoded data removed]"
          },
          "metadata": {}
        }
      ]
    },
    {
      "cell_type": "markdown",
      "source": [
        "## **Trends between transaction volume and Transaction Amount**"
      ],
      "metadata": {
        "id": "Z_Rb4yrgVva3"
      },
      "id": "Z_Rb4yrgVva3"
    },
    {
      "cell_type": "code",
      "source": [
        "df6 = df.loc[df['TransactionStatusRefID']==\"Success\"]\n",
        "df6 = df6.groupby('date')[\"Amount\"].sum()\n",
        "df6 = pd.DataFrame(df6)\n",
        "df6.reset_index(inplace=True)\n",
        "df6.head(30)\n",
        "df7 = df6"
      ],
      "metadata": {
        "id": "Wrx4AN7UevuL"
      },
      "id": "Wrx4AN7UevuL",
      "execution_count": 266,
      "outputs": []
    },
    {
      "cell_type": "markdown",
      "source": [
        "### **Scaling Transaction Volume and Transaction Amount Data**"
      ],
      "metadata": {
        "id": "2cSjfawQczNQ"
      },
      "id": "2cSjfawQczNQ"
    },
    {
      "cell_type": "code",
      "source": [
        "scaler = MinMaxScaler()\n",
        "scaled_array = scaler.fit_transform(df6[['Amount']])\n",
        "df6[['Amount']] = scaled_array"
      ],
      "metadata": {
        "id": "LwiXHQrOTPF9"
      },
      "id": "LwiXHQrOTPF9",
      "execution_count": 267,
      "outputs": []
    },
    {
      "cell_type": "code",
      "source": [
        "scaled_array2 = scaler.fit_transform(df2[['Count']])\n",
        "df2[['Count']] = scaled_array2"
      ],
      "metadata": {
        "id": "VWNwjcC4URZ6"
      },
      "id": "VWNwjcC4URZ6",
      "execution_count": 268,
      "outputs": []
    },
    {
      "cell_type": "code",
      "source": [
        "plt.figure(figsize=(20, 10))\n",
        "plt.title(\"Comparison between No. of Transactions and amount transferred\")\n",
        "plt.xlabel(\"Months\")\n",
        "display(plt.plot(df6['date'], df6['Amount'], color='orange', marker='o', linestyle='dashed',linewidth=2, markersize=12))\n",
        "display(plt.plot(df2['date'], df2['Count'], color='blue', marker='x', linestyle='dashed',linewidth=2, markersize=12))\n",
        "plt.legend(['Amount','Transactions'])\n"
      ],
      "metadata": {
        "colab": {
          "base_uri": "https://localhost:8080/",
          "height": 673
        },
        "id": "8BvPY6YbiU_c",
        "outputId": "5b0d721c-bcba-428c-eac3-f2dd0ba94e65"
      },
      "id": "8BvPY6YbiU_c",
      "execution_count": 269,
      "outputs": [
        {
          "output_type": "display_data",
          "data": {
            "text/plain": [
              "[<matplotlib.lines.Line2D at 0x7f7bd772ff50>]"
            ]
          },
          "metadata": {}
        },
        {
          "output_type": "display_data",
          "data": {
            "text/plain": [
              "[<matplotlib.lines.Line2D at 0x7f7c24144f10>]"
            ]
          },
          "metadata": {}
        },
        {
          "output_type": "execute_result",
          "data": {
            "text/plain": [
              "<matplotlib.legend.Legend at 0x7f7c23ea09d0>"
            ]
          },
          "metadata": {},
          "execution_count": 269
        },
        {
          "output_type": "display_data",
          "data": {
            "text/plain": [
              "<Figure size 1440x720 with 1 Axes>"
            ],
            "image/png": "[encoded data removed]"
          },
          "metadata": {
            "needs_background": "light"
          }
        }
      ]
    },
    {
      "cell_type": "markdown",
      "source": [
        "## **Transactions Analysis per month**"
      ],
      "metadata": {
        "id": "iTZum1phWcdZ"
      },
      "id": "iTZum1phWcdZ"
    },
    {
      "cell_type": "code",
      "source": [
        "months = df['date'].unique()\n",
        "months.sort()\n",
        "dg = {}\n",
        "for x in range(len(months)):\n",
        "  dg[months[x]] = df.loc[df['date']==months[x]]\n",
        "len(dg)"
      ],
      "metadata": {
        "colab": {
          "base_uri": "https://localhost:8080/"
        },
        "id": "JW2fdEKZbaSO",
        "outputId": "6db662ca-9bf3-4376-befe-ab3ba5bdf3d4"
      },
      "id": "JW2fdEKZbaSO",
      "execution_count": 270,
      "outputs": [
        {
          "output_type": "execute_result",
          "data": {
            "text/plain": [
              "8"
            ]
          },
          "metadata": {},
          "execution_count": 270
        }
      ]
    },
    {
      "cell_type": "code",
      "source": [
        "\n",
        "success = []\n",
        "failures = []\n",
        "for n, month in enumerate(months):\n",
        "    ndf = dg[month].groupby(['TransactionStatusRefID']).count()\n",
        "    ndf.reset_index(inplace=True)\n",
        "    success.append(ndf['date'][1])\n",
        "    failures.append(ndf['date'][0])"
      ],
      "metadata": {
        "id": "BJcvepb1Vpb-"
      },
      "id": "BJcvepb1Vpb-",
      "execution_count": 271,
      "outputs": []
    },
    {
      "cell_type": "code",
      "source": [
        "fig,axes = plt.subplots(1, 2,figsize=(20,10))\n",
        "plt.subplots_adjust(hspace=0.4)\n",
        "axes[0].set_title(\"Success\")\n",
        "axes[0].plot(months,success, 'r--o') \n",
        "axes[1].set_title(\"Failures\")\n",
        "axes[1].plot(months, failures, 'b--o')\n",
        "plt.suptitle(\"Trendlines for Success Rate of Transactions\", fontsize=24, y=0.95)"
      ],
      "metadata": {
        "colab": {
          "base_uri": "https://localhost:8080/",
          "height": 659
        },
        "id": "qVHecMJGfXuj",
        "outputId": "2a78de5d-e05d-4600-b75b-2778b53ee9cf"
      },
      "id": "qVHecMJGfXuj",
      "execution_count": 272,
      "outputs": [
        {
          "output_type": "execute_result",
          "data": {
            "text/plain": [
              "Text(0.5, 0.95, 'Trendlines for Success Rate of Transactions')"
            ]
          },
          "metadata": {},
          "execution_count": 272
        },
        {
          "output_type": "display_data",
          "data": {
            "text/plain": [
              "<Figure size 1440x720 with 2 Axes>"
            ],
            "image/png": "[encoded data removed]"
          },
          "metadata": {
            "needs_background": "light"
          }
        }
      ]
    },
    {
      "cell_type": "code",
      "source": [
        "df7[\"growth\"] = \"\"\n",
        "n = len(df7[\"Amount\"])\n",
        "for i in range(1,n):\n",
        "  df7[\"growth\"][i] = ((df7[\"Amount\"][i]-df7[\"Amount\"][i-1])/(df7[\"Amount\"][i-1]))*100\n",
        "df7[\"growth\"][0] = 0\n",
        "df7\n"
      ],
      "metadata": {
        "colab": {
          "base_uri": "https://localhost:8080/",
          "height": 474
        },
        "id": "p5yvDnFoqN8d",
        "outputId": "e1c48f41-fd50-4c5e-ef04-f0334b472c6a"
      },
      "id": "p5yvDnFoqN8d",
      "execution_count": 273,
      "outputs": [
        {
          "output_type": "stream",
          "name": "stderr",
          "text": [
            "/usr/local/lib/python3.7/dist-packages/ipykernel_launcher.py:4: SettingWithCopyWarning: \n",
            "A value is trying to be set on a copy of a slice from a DataFrame\n",
            "\n",
            "See the caveats in the documentation: https://pandas.pydata.org/pandas-docs/stable/user_guide/indexing.html#returning-a-view-versus-a-copy\n",
            "  after removing the cwd from sys.path.\n",
            "/usr/local/lib/python3.7/dist-packages/ipykernel_launcher.py:5: SettingWithCopyWarning: \n",
            "A value is trying to be set on a copy of a slice from a DataFrame\n",
            "\n",
            "See the caveats in the documentation: https://pandas.pydata.org/pandas-docs/stable/user_guide/indexing.html#returning-a-view-versus-a-copy\n",
            "  \"\"\"\n"
          ]
        },
        {
          "output_type": "execute_result",
          "data": {
            "text/plain": [
              "      date    Amount     growth\n",
              "0  2018-07  0.583283          0\n",
              "1  2018-08  0.777723  33.335517\n",
              "2  2018-09  0.852569   9.623701\n",
              "3  2018-10  0.585383 -31.338915\n",
              "4  2018-11  0.591526   1.049443\n",
              "5  2018-12  1.000000  69.054135\n",
              "6  2019-01  0.655169 -34.483053\n",
              "7  2019-02  0.000000     -100.0"
            ],
            "text/html": [
              "\n",
              "  <div id=\"df-ca1f0168-8bf7-46e2-abf4-670a827cab88\">\n",
              "    <div class=\"colab-df-container\">\n",
              "      <div>\n",
              "<style scoped>\n",
              "    .dataframe tbody tr th:only-of-type {\n",
              "        vertical-align: middle;\n",
              "    }\n",
              "\n",
              "    .dataframe tbody tr th {\n",
              "        vertical-align: top;\n",
              "    }\n",
              "\n",
              "    .dataframe thead th {\n",
              "        text-align: right;\n",
              "    }\n",
              "</style>\n",
              "<table border=\"1\" class=\"dataframe\">\n",
              "  <thead>\n",
              "    <tr style=\"text-align: right;\">\n",
              "      <th></th>\n",
              "      <th>date</th>\n",
              "      <th>Amount</th>\n",
              "      <th>growth</th>\n",
              "    </tr>\n",
              "  </thead>\n",
              "  <tbody>\n",
              "    <tr>\n",
              "      <th>0</th>\n",
              "      <td>2018-07</td>\n",
              "      <td>0.583283</td>\n",
              "      <td>0</td>\n",
              "    </tr>\n",
              "    <tr>\n",
              "      <th>1</th>\n",
              "      <td>2018-08</td>\n",
              "      <td>0.777723</td>\n",
              "      <td>33.335517</td>\n",
              "    </tr>\n",
              "    <tr>\n",
              "      <th>2</th>\n",
              "      <td>2018-09</td>\n",
              "      <td>0.852569</td>\n",
              "      <td>9.623701</td>\n",
              "    </tr>\n",
              "    <tr>\n",
              "      <th>3</th>\n",
              "      <td>2018-10</td>\n",
              "      <td>0.585383</td>\n",
              "      <td>-31.338915</td>\n",
              "    </tr>\n",
              "    <tr>\n",
              "      <th>4</th>\n",
              "      <td>2018-11</td>\n",
              "      <td>0.591526</td>\n",
              "      <td>1.049443</td>\n",
              "    </tr>\n",
              "    <tr>\n",
              "      <th>5</th>\n",
              "      <td>2018-12</td>\n",
              "      <td>1.000000</td>\n",
              "      <td>69.054135</td>\n",
              "    </tr>\n",
              "    <tr>\n",
              "      <th>6</th>\n",
              "      <td>2019-01</td>\n",
              "      <td>0.655169</td>\n",
              "      <td>-34.483053</td>\n",
              "    </tr>\n",
              "    <tr>\n",
              "      <th>7</th>\n",
              "      <td>2019-02</td>\n",
              "      <td>0.000000</td>\n",
              "      <td>-100.0</td>\n",
              "    </tr>\n",
              "  </tbody>\n",
              "</table>\n",
              "</div>\n",
              "      <button class=\"colab-df-convert\" onclick=\"convertToInteractive('df-ca1f0168-8bf7-46e2-abf4-670a827cab88')\"\n",
              "              title=\"Convert this dataframe to an interactive table.\"\n",
              "              style=\"display:none;\">\n",
              "        \n",
              "  <svg xmlns=\"http://www.w3.org/2000/svg\" height=\"24px\"viewBox=\"0 0 24 24\"\n",
              "       width=\"24px\">\n",
              "    <path d=\"M0 0h24v24H0V0z\" fill=\"none\"/>\n",
              "    <path d=\"M18.56 5.44l.94 2.06.94-2.06 2.06-.94-2.06-.94-.94-2.06-.94 2.06-2.06.94zm-11 1L8.5 8.5l.94-2.06 2.06-.94-2.06-.94L8.5 2.5l-.94 2.06-2.06.94zm10 10l.94 2.06.94-2.06 2.06-.94-2.06-.94-.94-2.06-.94 2.06-2.06.94z\"/><path d=\"M17.41 7.96l-1.37-1.37c-.4-.4-.92-.59-1.43-.59-.52 0-1.04.2-1.43.59L10.3 9.45l-7.72 7.72c-.78.78-.78 2.05 0 2.83L4 21.41c.39.39.9.59 1.41.59.51 0 1.02-.2 1.41-.59l7.78-7.78 2.81-2.81c.8-.78.8-2.07 0-2.86zM5.41 20L4 18.59l7.72-7.72 1.47 1.35L5.41 20z\"/>\n",
              "  </svg>\n",
              "      </button>\n",
              "      \n",
              "  <style>\n",
              "    .colab-df-container {\n",
              "      display:flex;\n",
              "      flex-wrap:wrap;\n",
              "      gap: 12px;\n",
              "    }\n",
              "\n",
              "    .colab-df-convert {\n",
              "      background-color: #E8F0FE;\n",
              "      border: none;\n",
              "      border-radius: 50%;\n",
              "      cursor: pointer;\n",
              "      display: none;\n",
              "      fill: #1967D2;\n",
              "      height: 32px;\n",
              "      padding: 0 0 0 0;\n",
              "      width: 32px;\n",
              "    }\n",
              "\n",
              "    .colab-df-convert:hover {\n",
              "      background-color: #E2EBFA;\n",
              "      box-shadow: 0px 1px 2px rgba(60, 64, 67, 0.3), 0px 1px 3px 1px rgba(60, 64, 67, 0.15);\n",
              "      fill: #174EA6;\n",
              "    }\n",
              "\n",
              "    [theme=dark] .colab-df-convert {\n",
              "      background-color: #3B4455;\n",
              "      fill: #D2E3FC;\n",
              "    }\n",
              "\n",
              "    [theme=dark] .colab-df-convert:hover {\n",
              "      background-color: #434B5C;\n",
              "      box-shadow: 0px 1px 3px 1px rgba(0, 0, 0, 0.15);\n",
              "      filter: drop-shadow(0px 1px 2px rgba(0, 0, 0, 0.3));\n",
              "      fill: #FFFFFF;\n",
              "    }\n",
              "  </style>\n",
              "\n",
              "      <script>\n",
              "        const buttonEl =\n",
              "          document.querySelector('#df-ca1f0168-8bf7-46e2-abf4-670a827cab88 button.colab-df-convert');\n",
              "        buttonEl.style.display =\n",
              "          google.colab.kernel.accessAllowed ? 'block' : 'none';\n",
              "\n",
              "        async function convertToInteractive(key) {\n",
              "          const element = document.querySelector('#df-ca1f0168-8bf7-46e2-abf4-670a827cab88');\n",
              "          const dataTable =\n",
              "            await google.colab.kernel.invokeFunction('convertToInteractive',\n",
              "                                                     [key], {});\n",
              "          if (!dataTable) return;\n",
              "\n",
              "          const docLinkHtml = 'Like what you see? Visit the ' +\n",
              "            '<a target=\"_blank\" href=https://colab.research.google.com/notebooks/data_table.ipynb>data table notebook</a>'\n",
              "            + ' to learn more about interactive tables.';\n",
              "          element.innerHTML = '';\n",
              "          dataTable['output_type'] = 'display_data';\n",
              "          await google.colab.output.renderOutput(dataTable, element);\n",
              "          const docLink = document.createElement('div');\n",
              "          docLink.innerHTML = docLinkHtml;\n",
              "          element.appendChild(docLink);\n",
              "        }\n",
              "      </script>\n",
              "    </div>\n",
              "  </div>\n",
              "  "
            ]
          },
          "metadata": {},
          "execution_count": 273
        }
      ]
    },
    {
      "cell_type": "code",
      "source": [
        "plt.figure(figsize=(20, 10))\n",
        "plt.title(\"Growth Rate of Transaction Amount over the time period Mont hWise\")\n",
        "plt.xlabel(\"Months\")\n",
        "plt.ylabel(\"Amount\")\n",
        "plt.bar(df7['date'],df7['growth'],color = 'orange')\n",
        "plt.legend(['Amount','Transactions'])\n"
      ],
      "metadata": {
        "colab": {
          "base_uri": "https://localhost:8080/",
          "height": 638
        },
        "id": "xDmRnZMIdIPP",
        "outputId": "c84433fb-587b-4e7c-9e7a-967ff7beb9e6"
      },
      "id": "xDmRnZMIdIPP",
      "execution_count": 274,
      "outputs": [
        {
          "output_type": "execute_result",
          "data": {
            "text/plain": [
              "<matplotlib.legend.Legend at 0x7f7c24ce8110>"
            ]
          },
          "metadata": {},
          "execution_count": 274
        },
        {
          "output_type": "display_data",
          "data": {
            "text/plain": [
              "<Figure size 1440x720 with 1 Axes>"
            ],
            "image/png": "[encoded data removed]"
          },
          "metadata": {
            "needs_background": "light"
          }
        }
      ]
    },
    {
      "cell_type": "markdown",
      "source": [
        "# Section 2: SQL Queries"
      ],
      "metadata": {
        "id": "nOq78Eru6JW1"
      },
      "id": "nOq78Eru6JW1"
    },
    {
      "cell_type": "markdown",
      "source": [
        "##### I tried creating the database in MySQL but was unable to do so as it was taking a lot of time. So I have used Pandas to create SQL Queries. However for the second Part of the Question some MYSQL Functions like LAG() and LEAD() dont work with sqlite. I have written the raw query below but was unable to verify it's working. Please pardon my mistake."
      ],
      "metadata": {
        "id": "NU08Np0CXbrB"
      },
      "id": "NU08Np0CXbrB"
    },
    {
      "cell_type": "code",
      "source": [
        "from sqlite3 import connect\n",
        "conn = connect(':memory:')\n",
        "cursor = conn.cursor()\n",
        "dff.to_sql('test_data', conn)\n"
      ],
      "metadata": {
        "colab": {
          "base_uri": "https://localhost:8080/"
        },
        "id": "oydtPGIfv79I",
        "outputId": "ee421dc7-1255-4864-fcbb-f717bd13a771"
      },
      "id": "oydtPGIfv79I",
      "execution_count": 275,
      "outputs": [
        {
          "output_type": "stream",
          "name": "stderr",
          "text": [
            "/usr/local/lib/python3.7/dist-packages/pandas/core/generic.py:2882: UserWarning: The spaces in these column names will not be changed. In pandas versions < 0.14, spaces were converted to underscores.\n",
            "  method=method,\n"
          ]
        }
      ]
    },
    {
      "cell_type": "code",
      "source": [
        "dff.info()"
      ],
      "metadata": {
        "colab": {
          "base_uri": "https://localhost:8080/"
        },
        "id": "iDbycx9921i6",
        "outputId": "cac1f4f6-3559-4eb8-ab85-a1418ad4f442"
      },
      "id": "iDbycx9921i6",
      "execution_count": 277,
      "outputs": [
        {
          "output_type": "stream",
          "name": "stdout",
          "text": [
            "<class 'pandas.core.frame.DataFrame'>\n",
            "RangeIndex: 3412682 entries, 0 to 3412681\n",
            "Data columns (total 8 columns):\n",
            " #   Column                  Dtype  \n",
            "---  ------                  -----  \n",
            " 0   Unnamed: 0              int64  \n",
            " 1   Amount                  float64\n",
            " 2   PayeeRefID              int64  \n",
            " 3   CreatedDate             object \n",
            " 4   TransactionStatusRefID  int64  \n",
            " 5   AgentRefID              int64  \n",
            " 6   DistributorRefID        int64  \n",
            " 7   date                    object \n",
            "dtypes: float64(1), int64(5), object(2)\n",
            "memory usage: 208.3+ MB\n"
          ]
        }
      ]
    },
    {
      "cell_type": "code",
      "source": [
        "dff['CreatedDate']= pd.to_datetime(dff['CreatedDate'])"
      ],
      "metadata": {
        "id": "FDYaGyHU2sQE"
      },
      "id": "FDYaGyHU2sQE",
      "execution_count": 278,
      "outputs": []
    },
    {
      "cell_type": "code",
      "source": [
        "dff.info()"
      ],
      "metadata": {
        "colab": {
          "base_uri": "https://localhost:8080/"
        },
        "id": "-B6MQjNzm7JW",
        "outputId": "ccfeffd4-2150-4960-f6c6-83e51cdf9836"
      },
      "id": "-B6MQjNzm7JW",
      "execution_count": 279,
      "outputs": [
        {
          "output_type": "stream",
          "name": "stdout",
          "text": [
            "<class 'pandas.core.frame.DataFrame'>\n",
            "RangeIndex: 3412682 entries, 0 to 3412681\n",
            "Data columns (total 8 columns):\n",
            " #   Column                  Dtype              \n",
            "---  ------                  -----              \n",
            " 0   Unnamed: 0              int64              \n",
            " 1   Amount                  float64            \n",
            " 2   PayeeRefID              int64              \n",
            " 3   CreatedDate             datetime64[ns, UTC]\n",
            " 4   TransactionStatusRefID  int64              \n",
            " 5   AgentRefID              int64              \n",
            " 6   DistributorRefID        int64              \n",
            " 7   date                    object             \n",
            "dtypes: datetime64[ns, UTC](1), float64(1), int64(5), object(1)\n",
            "memory usage: 208.3+ MB\n"
          ]
        }
      ]
    },
    {
      "cell_type": "markdown",
      "source": [
        "Query 1:\n",
        "\n",
        "\n",
        "```\n",
        "# This is formatted as code\n",
        "SELECT AgentRefID ,count(TransactionStatusRefID) as count \n",
        "  FROM test_data \n",
        "  group by AgentRefID  \n",
        "  having Amount>100 and \n",
        "  TransactionStatusRefID=2';\n",
        "```\n",
        "\n"
      ],
      "metadata": {
        "id": "kmVTSdK6B6Sf"
      },
      "id": "kmVTSdK6B6Sf"
    },
    {
      "cell_type": "code",
      "source": [
        "pd.read_sql('SELECT AgentRefID ,count(TransactionStatusRefID) as count FROM test_data group by AgentRefID  having Amount>100 and TransactionStatusRefID=2', conn)"
      ],
      "metadata": {
        "colab": {
          "base_uri": "https://localhost:8080/",
          "height": 424
        },
        "id": "ehgjLktav7_U",
        "outputId": "b6a60e45-3348-443c-9747-0c292e095374"
      },
      "id": "ehgjLktav7_U",
      "execution_count": 280,
      "outputs": [
        {
          "output_type": "execute_result",
          "data": {
            "text/plain": [
              "      AgentRefID  count\n",
              "0              2   3945\n",
              "1              3    986\n",
              "2              4    687\n",
              "3              5   3132\n",
              "4              6    423\n",
              "...          ...    ...\n",
              "4218        4592    154\n",
              "4219        4593    170\n",
              "4220        4594    374\n",
              "4221        4595      7\n",
              "4222        4596    293\n",
              "\n",
              "[4223 rows x 2 columns]"
            ],
            "text/html": [
              "\n",
              "  <div id=\"df-6c9e4989-4ac0-49e0-a587-efd20e3b05a4\">\n",
              "    <div class=\"colab-df-container\">\n",
              "      <div>\n",
              "<style scoped>\n",
              "    .dataframe tbody tr th:only-of-type {\n",
              "        vertical-align: middle;\n",
              "    }\n",
              "\n",
              "    .dataframe tbody tr th {\n",
              "        vertical-align: top;\n",
              "    }\n",
              "\n",
              "    .dataframe thead th {\n",
              "        text-align: right;\n",
              "    }\n",
              "</style>\n",
              "<table border=\"1\" class=\"dataframe\">\n",
              "  <thead>\n",
              "    <tr style=\"text-align: right;\">\n",
              "      <th></th>\n",
              "      <th>AgentRefID</th>\n",
              "      <th>count</th>\n",
              "    </tr>\n",
              "  </thead>\n",
              "  <tbody>\n",
              "    <tr>\n",
              "      <th>0</th>\n",
              "      <td>2</td>\n",
              "      <td>3945</td>\n",
              "    </tr>\n",
              "    <tr>\n",
              "      <th>1</th>\n",
              "      <td>3</td>\n",
              "      <td>986</td>\n",
              "    </tr>\n",
              "    <tr>\n",
              "      <th>2</th>\n",
              "      <td>4</td>\n",
              "      <td>687</td>\n",
              "    </tr>\n",
              "    <tr>\n",
              "      <th>3</th>\n",
              "      <td>5</td>\n",
              "      <td>3132</td>\n",
              "    </tr>\n",
              "    <tr>\n",
              "      <th>4</th>\n",
              "      <td>6</td>\n",
              "      <td>423</td>\n",
              "    </tr>\n",
              "    <tr>\n",
              "      <th>...</th>\n",
              "      <td>...</td>\n",
              "      <td>...</td>\n",
              "    </tr>\n",
              "    <tr>\n",
              "      <th>4218</th>\n",
              "      <td>4592</td>\n",
              "      <td>154</td>\n",
              "    </tr>\n",
              "    <tr>\n",
              "      <th>4219</th>\n",
              "      <td>4593</td>\n",
              "      <td>170</td>\n",
              "    </tr>\n",
              "    <tr>\n",
              "      <th>4220</th>\n",
              "      <td>4594</td>\n",
              "      <td>374</td>\n",
              "    </tr>\n",
              "    <tr>\n",
              "      <th>4221</th>\n",
              "      <td>4595</td>\n",
              "      <td>7</td>\n",
              "    </tr>\n",
              "    <tr>\n",
              "      <th>4222</th>\n",
              "      <td>4596</td>\n",
              "      <td>293</td>\n",
              "    </tr>\n",
              "  </tbody>\n",
              "</table>\n",
              "<p>4223 rows × 2 columns</p>\n",
              "</div>\n",
              "      <button class=\"colab-df-convert\" onclick=\"convertToInteractive('df-6c9e4989-4ac0-49e0-a587-efd20e3b05a4')\"\n",
              "              title=\"Convert this dataframe to an interactive table.\"\n",
              "              style=\"display:none;\">\n",
              "        \n",
              "  <svg xmlns=\"http://www.w3.org/2000/svg\" height=\"24px\"viewBox=\"0 0 24 24\"\n",
              "       width=\"24px\">\n",
              "    <path d=\"M0 0h24v24H0V0z\" fill=\"none\"/>\n",
              "    <path d=\"M18.56 5.44l.94 2.06.94-2.06 2.06-.94-2.06-.94-.94-2.06-.94 2.06-2.06.94zm-11 1L8.5 8.5l.94-2.06 2.06-.94-2.06-.94L8.5 2.5l-.94 2.06-2.06.94zm10 10l.94 2.06.94-2.06 2.06-.94-2.06-.94-.94-2.06-.94 2.06-2.06.94z\"/><path d=\"M17.41 7.96l-1.37-1.37c-.4-.4-.92-.59-1.43-.59-.52 0-1.04.2-1.43.59L10.3 9.45l-7.72 7.72c-.78.78-.78 2.05 0 2.83L4 21.41c.39.39.9.59 1.41.59.51 0 1.02-.2 1.41-.59l7.78-7.78 2.81-2.81c.8-.78.8-2.07 0-2.86zM5.41 20L4 18.59l7.72-7.72 1.47 1.35L5.41 20z\"/>\n",
              "  </svg>\n",
              "      </button>\n",
              "      \n",
              "  <style>\n",
              "    .colab-df-container {\n",
              "      display:flex;\n",
              "      flex-wrap:wrap;\n",
              "      gap: 12px;\n",
              "    }\n",
              "\n",
              "    .colab-df-convert {\n",
              "      background-color: #E8F0FE;\n",
              "      border: none;\n",
              "      border-radius: 50%;\n",
              "      cursor: pointer;\n",
              "      display: none;\n",
              "      fill: #1967D2;\n",
              "      height: 32px;\n",
              "      padding: 0 0 0 0;\n",
              "      width: 32px;\n",
              "    }\n",
              "\n",
              "    .colab-df-convert:hover {\n",
              "      background-color: #E2EBFA;\n",
              "      box-shadow: 0px 1px 2px rgba(60, 64, 67, 0.3), 0px 1px 3px 1px rgba(60, 64, 67, 0.15);\n",
              "      fill: #174EA6;\n",
              "    }\n",
              "\n",
              "    [theme=dark] .colab-df-convert {\n",
              "      background-color: #3B4455;\n",
              "      fill: #D2E3FC;\n",
              "    }\n",
              "\n",
              "    [theme=dark] .colab-df-convert:hover {\n",
              "      background-color: #434B5C;\n",
              "      box-shadow: 0px 1px 3px 1px rgba(0, 0, 0, 0.15);\n",
              "      filter: drop-shadow(0px 1px 2px rgba(0, 0, 0, 0.3));\n",
              "      fill: #FFFFFF;\n",
              "    }\n",
              "  </style>\n",
              "\n",
              "      <script>\n",
              "        const buttonEl =\n",
              "          document.querySelector('#df-6c9e4989-4ac0-49e0-a587-efd20e3b05a4 button.colab-df-convert');\n",
              "        buttonEl.style.display =\n",
              "          google.colab.kernel.accessAllowed ? 'block' : 'none';\n",
              "\n",
              "        async function convertToInteractive(key) {\n",
              "          const element = document.querySelector('#df-6c9e4989-4ac0-49e0-a587-efd20e3b05a4');\n",
              "          const dataTable =\n",
              "            await google.colab.kernel.invokeFunction('convertToInteractive',\n",
              "                                                     [key], {});\n",
              "          if (!dataTable) return;\n",
              "\n",
              "          const docLinkHtml = 'Like what you see? Visit the ' +\n",
              "            '<a target=\"_blank\" href=https://colab.research.google.com/notebooks/data_table.ipynb>data table notebook</a>'\n",
              "            + ' to learn more about interactive tables.';\n",
              "          element.innerHTML = '';\n",
              "          dataTable['output_type'] = 'display_data';\n",
              "          await google.colab.output.renderOutput(dataTable, element);\n",
              "          const docLink = document.createElement('div');\n",
              "          docLink.innerHTML = docLinkHtml;\n",
              "          element.appendChild(docLink);\n",
              "        }\n",
              "      </script>\n",
              "    </div>\n",
              "  </div>\n",
              "  "
            ]
          },
          "metadata": {},
          "execution_count": 280
        }
      ]
    },
    {
      "cell_type": "markdown",
      "source": [
        "Query 2: \n",
        "```\n",
        "# This is formatted as code\n",
        "  SELECT MONTH(CreatedDate) as month,\n",
        "         SUM(Amount) as revenue,\n",
        "         (revenue - LAG (revenue) OVER (ORDER BY month ASC))/LAG (revenue) \n",
        "         OVER (ORDER BY month ASC)*100 AS percentage_growth\n",
        "         FROM test_data \n",
        "         where YEAR(CreatedDate) = \"2018\" AND\n",
        "         TransactionStatusRefID = 2 \n",
        "         GROUP BY month;\n",
        "\n",
        "```\n",
        "In case MONTH does not work:\n",
        "\n",
        "\n",
        "```\n",
        "# This is formatted as code\n",
        "  SELECT STRFTIME(\"%m\",CreatedDate) as month,\n",
        "         SUM(Amount) as revenue,\n",
        "         (revenue - LAG (revenue) OVER (ORDER BY month ASC))/LAG (revenue) \n",
        "         OVER (ORDER BY month ASC)*100 AS percentage_growth\n",
        "         FROM test_data \n",
        "         where YEAR(CreatedDate) = \"2018\" AND\n",
        "         TransactionStatusRefID = 2 \n",
        "         GROUP BY month;\n",
        "```\n",
        "\n",
        "\n",
        "\n"
      ],
      "metadata": {
        "id": "-EEK51IiDuBJ"
      },
      "id": "-EEK51IiDuBJ"
    }
  ],
  "metadata": {
    "kernelspec": {
      "display_name": "Python 3 (ipykernel)",
      "language": "python",
      "name": "python3"
    },
    "language_info": {
      "codemirror_mode": {
        "name": "ipython",
        "version": 3
      },
      "file_extension": ".py",
      "mimetype": "text/x-python",
      "name": "python",
      "nbconvert_exporter": "python",
      "pygments_lexer": "ipython3",
      "version": "3.9.7"
    },
    "colab": {
      "provenance": [],
      "include_colab_link": true
    }
  },
  "nbformat": 4,
  "nbformat_minor": 5
}